{
 "cells": [
  {
   "cell_type": "markdown",
   "metadata": {},
   "source": [
    "Pattern count function:\n",
    "\n",
    "Takes a text file input in the format of a DNA sequence(text) and a pattern* and outputs how many times that pattern occurs within that DNA sequence\n",
    "\n",
    "*text and pattern must be seperated by whitespace\n",
    "\n",
    "Code Challenge: Implement PatternCount"
   ]
  },
  {
   "cell_type": "code",
   "execution_count": 44,
   "metadata": {
    "collapsed": false
   },
   "outputs": [
    {
     "data": {
      "text/plain": [
       "27"
      ]
     },
     "execution_count": 44,
     "metadata": {},
     "output_type": "execute_result"
    }
   ],
   "source": [
    "#option 1\n",
    "\n",
    "\n",
    "def PatternCount(text, pattern):\n",
    "        count = 0\n",
    "        for i in range (0,(len(text) - (len(pattern)))):\n",
    "            if text[i:(i + len(pattern))] == pattern:\n",
    "                count = count + 1\n",
    "        return count\n",
    "\n",
    "file = 'dataset_2_7.txt'\n",
    "fhand = open(file)\n",
    "txt = fhand.read()\n",
    "splity = txt.split()\n",
    "text = splity[0]\n",
    "pattern = splity[1]\n",
    "\n",
    "PatternCount(text, pattern)\n"
   ]
  },
  {
   "cell_type": "code",
   "execution_count": 45,
   "metadata": {
    "collapsed": false
   },
   "outputs": [
    {
     "data": {
      "text/plain": [
       "27"
      ]
     },
     "execution_count": 45,
     "metadata": {},
     "output_type": "execute_result"
    }
   ],
   "source": [
    "#option 2\n",
    "\n",
    "def pattern_count(file):\n",
    "    fhand = open(file)\n",
    "    txt = fhand.read()\n",
    "    splity = txt.split()\n",
    "    text = splity[0]\n",
    "    pattern = splity[1]\n",
    "    start = 0\n",
    "    end = len(pattern)\n",
    "    list = []\n",
    "    while start < (len(text) - len(pattern)):\n",
    "        seq = text[start:end]\n",
    "        if seq == pattern:\n",
    "            list.append(seq)\n",
    "            start = start + 1\n",
    "            end = end + 1\n",
    "        else:\n",
    "            start = start + 1\n",
    "            end = end + 1\n",
    "    return len(list)  \n",
    "   \n",
    "    \n",
    "    \n",
    "\n",
    "pattern_count('dataset_2_7.txt')"
   ]
  },
  {
   "cell_type": "markdown",
   "metadata": {},
   "source": [
    "most common sequence function:\n",
    "\n",
    "Takes a text file input in the format of a DNA sequence(text) and pattern length (pattern)* and outputs the top 5 most commonly occuring patterns (of specified length) that occurs in that sequence.\n",
    "\n",
    "*text and pattern must be seperated by whitespace\n",
    "\n",
    "Code Challenge: Solve the Frequent Words Problem.\n"
   ]
  },
  {
   "cell_type": "code",
   "execution_count": 1,
   "metadata": {
    "collapsed": false,
    "scrolled": true
   },
   "outputs": [
    {
     "name": "stdout",
     "output_type": "stream",
     "text": [
      "TTGGTGACGACG 12\n",
      "GAGTGTAAGGGG 9\n",
      "GATTGGTGACGA 8\n",
      "TGGTGACGACGG 7\n",
      "TGACGACGGTTA 7\n"
     ]
    }
   ],
   "source": [
    "\n",
    "def frequent_count(file):\n",
    "    fhand = open(file)\n",
    "    txt = fhand.read()\n",
    "    splity = txt.split()\n",
    "    text = splity[0]\n",
    "    pattern = splity[1]\n",
    "    start = 0\n",
    "    end = int(pattern)\n",
    "    list = []\n",
    "    counts = {}\n",
    "    while start < len(text) - int(pattern):\n",
    "       list.append(text[start:end])\n",
    "       start = start + 1\n",
    "       end = end + 1\n",
    "    for item in list:\n",
    "       counts[item] = counts.get(item,0) + 1\n",
    "    lst = []\n",
    "    for k, v in counts.items():\n",
    "       lst.append( (v, k) )\n",
    "    lst.sort(reverse=True)\n",
    "    for v,k in lst[:5]:\n",
    "       print k, v\n",
    "\n",
    "frequent_count('dataset_2_10.txt')"
   ]
  },
  {
   "cell_type": "markdown",
   "metadata": {},
   "source": [
    "Takes a text file input containing a DNA sequence and returns the complimentary sequence\n",
    "\n",
    "Code Challenge: Solve the Reverse Complement Problem."
   ]
  },
  {
   "cell_type": "code",
   "execution_count": 273,
   "metadata": {
    "collapsed": false
   },
   "outputs": [
    {
     "data": {
      "text/plain": [
       "'TGCCCCCTGTTAGATTATAAACATCGCTACCTAATGGTAGGTGGTACTAATAGTCCACTGAGAATGCCAAACTACGTTCCATTATGTAAATGTCGGACAAAGTATACTTCAAGCGACCACTTCTCTCAATGGTTCATCAAGTGGAGCTGCCTTTCCGAGCGCGCCCCGAACATTCCTTAATGGTCTATGATAATCCAAAACGCCTAAAGAACCTGGGCGGGAAAACCACTTTCAGATGTAGTTGTAACTAGTCAGCTAAATAAGGCAGGTGCGGGCTCTGGGCCCAATAAGGCGAGCTATAATAACAGCCAACCTCTAAGTACAATAAAGTGATAACGGGGTTCTGCGAATTATCACTGGATATTCATAGGGACACAGGATACGCCAACAAGAGGGGGCAACACTTTCAAGTAGTCCACCACGTCTATCCATGTGGCACGAGGTTTTGTGCCTCGCAACCGAATTCACTTAGCGAAAGAGGAAATAATTGGCACGAAGAAATCCGAGAGCACAGACGTCTCTTAACCGTAGTAAACGTTTGCAAGGACCATGCGGGAGAGCTTTAAGACGTTTGCGTTTCGTGCAATAGACCCGGACCTTACAGATCGGGAAGGGGTTACCAGTTTTTTATTCGTGGGAGTCCTATCACCTATGAAGAGCCGCATTGTGTAATCGTTCGCCAAACCTTGGGATAACCCGACGGTGCTCCTGTTTAGGGCAACTCTTGGTCAGGTAACAGCAACAAGGCCACCAGACTCCCGTTGCGAGAAGGTGGGTAAGGAGTCAGGATACCACCTGAGCTATAAGATTTAATACCCCTTGCTTGCTGACTTAGGTACCAAAGGTGAGCCGGCCGCGGTTGTGTCAAAATAACTCTGGCTCATTAAGTAGCCTAAGCTGTGAAAGAACAGGTGGAATGACGTGAGAACACCGGTGCGTGTGCACAAAGATCCTACCGTATATATAAGATTACGACGTTGCGAGAAGTCTACGGTTCGTTTCTGTCACGCAATTCTCCGTTAGGAGCTGGGGGCAGCTCCAGATGTGAGGATTCCACGGTTGTTCGGAGCTGCTTGAACACGATTTATCCTGCTCCACATCTTCATGGTCGAAGCTCCTACTTCGTGGGAAATCTCTCTATGATGTCACTCCCATGTTAACCACAGAGTGGCGGTAGAACTCTGGTCGAATTGTGCCGTTACAAAACATGCGAGTCAACACGTGTTATACAGGTGGTGGAGTCGTAACGGACGAACAAGCCCGCATGAATGTCAGAAGCGTCGAATCCTGGGTGCCAAATGCACCTAAGTTGCATATCCACCATTGTTCTGCGCCCGCTAGATCACACTGTGACCAACCAGCCCCCATGGGGCCTTTTGTTCTCAGTTGGACAACGCGACGTCTTGAACTCTCCGTGCCCCCTAACATCGAACCAGGCTCGTCCTTTCGCAGCTGCATGTGCTCGGGCAGACGGATGGCGTCTATGGAGACGTCTTCGCTGGGCACGTATATTCTTATAACACCTCGACCAGTTCCATTAATGTCCGAGGTATTTATAGCGACTTGTGAGTTATGCAACTGGATTCACAGGCAATAAGAATACTAGACTGTACTAACACGAAGTCAGCCCCTCTTTGGGCTAGGTACAGAGGAGCTTTAGGTATGCAATCACGTGATCGTACAACATCACTGAGCGGGTCTCGGCCGACCCGACCCAGGGGAGGAACAGTCCTTTACCAAGCGATAGGTTCGACTTTACCTCACTATCGAGAACGGGCTCCGTAAACGGTTTCGTTCGTAGCACCTCCTGCACTCAGGGATAGCGAACCCGTAGACCGGCATCTAGAGTCGCCCCAGAAAGTCTGACCCCGCCCGAGTAATGTTATATAGTTGGAACGCCAATCTATTGCTGACCTACCGCGGAAAAAGCTTAAGTTGAACCAAGTGTGAACGAGCCCCGAGCGGTATTACGCGACACTACGCGGGTGGAGCCCCCGCTCATCTTCTACCTTTAGGACTCCGATTGATCCGTGTCAGCCTGCGCTAGAAGGTCTCCCCTGGCTACCCAGGACCTTCAGACAGATTACCCGTGGGTACCAAGAACGCTAGCTGACTCAAAATGACCAAAAATGATGAATTGATGGTAATTTTGTATGCCATACCCCCAAGCCCCTAATGGCCAATCCGGCACATGGTAATCGTACCGTAGTCGGTTACTTGCAATATCGAGGTCCCTTTTTGCGTTAGGATGGTTTTCTGCGGACTCGAAGTATGGCCGGAGGTCGCTCAGGAGAATAGATTAAGTTGTTTACCTCGCTCAAAGCCCCAACTCTGTTTCTGTTTGTTAGGCTATATGAACCGGTCAGTATCCTACTCCGCCGTGAGAGTTGATAGTAACGTCCGCCGTTACGGCATGATAGTTGTAACAGAATGAGTTTTTTTTGACCAGTGTAGGCCCAAGCGAAGGGGTTCCGCGGCCGGGGGGGAATGTAGCCCCGGGGTAGCTTACTCCAAGCAGTCGTCGATACCGAATACGGATAGTAGCGATAGAGGTTGGTTGACCCTTCGGGGGGTTGCAGTCAACAAGAGCCCTTACCGGAAGCGGGTATGTTCGCTCAAGCGGAGGAATTAGTCTAATCAGCGCAGTGGTCAAGCGGGTTGGGGCATTTGCGCCTAGGTAACCGTGAGATCAAGTATAATGACGAGTGGAGAGTACTCGAAGTACTGAGTTGTTGAAAGGGCTTGACTCCCTGTCGGTCCCATGCTTGCCCATCGGGGAAAGAAGCGAATCTGTTCTAAGCTACTTAGCTCGTCACACACTTAAACTGCAAGCACAGGGGGTGAGTGTCCCTGCCGGCCTGGATTCGGCAGGCGTCCGAATGTCGAAGCGATTCGGAGAATCCCGAGTACTATGAAAGGGCTGCATACATGGACAATAGCGTCTCCATAGTACGTTGCCTCCTGGGCCGATAGCGCCGGCTCATGGCTGCGTGGAGTAGAAGCCGAGCAGTTACGTATTTTCCCTATCGATCATTGAACCTAAACTAAAGGTGGCTATTGGTCTCCACCCTTTATCCAGCCAGAATTGGCGGATACCCGAAGGAGTGTGCTATACGGTTCCAGTCGCAATAACCGGTCTGTTACGTGTCCTACTAAATAGGATCGGGTATCCATACGGCATTACATTCCTCATTTTCTTGTCCGTCTACCAACCCACTCAGGCGCATGCACTCCCGAGGGACTCTCTACTTCAACATTCTGCGGTCGTTAGTCTGGTAGGCAGTTGGGCAGGTCCCCGGAGTCACTACGATCCTTTATTGAGATAGCTACTTATCCGCGATTTCTGAGAGTAGTGTCTAATCGCTTGATCCTCGTTGATTCAGGCCAGCAGGGCCTGCACCGTTGCTGTCAACGGTGTCGACTCCACCCTATGCGGCTTGCACACCGGATTCCCTCCTCCCGTGAGTGGCGACGTGGAGGTCAGGAGAACGTGTCCCCCCCGCTTGAACGCAGGAATTGAATCTGCTATGCATCACGATTCTCTCTCACCGGACTCTTATGAGTTCAGGAAAGCGACCATCTCTACCCAAGTATTTGACCGGTCAAGCGAGATATTACGTTGATAATATCGGCAAAGCCAGGCTGGCCTAGTGTGGGATTAGAGATCATCTGCGTGAGTCAACTAATTGGGAACGAGACATACCGCCCCTCCGTGAAGTAAATGTAGTGGGTGTCCTGCTCTGCTGCTATTTTGATCCTCCTAAGCGTAGCCCTGCCGAGTGGCCAATCCCACCGATATCAGAGGGATTCTGAGACTCGGCCGCCAGTTGATTCATGATCTCTGTGTTAGCCCGGGACCGTAGGTCCGCGGGGGGTTGTCCGAGATTGGTCGTTATCCGTGCCCTCGGACTAACGTAATCACATCCGAGTATTTGGCACAGTAAGGCTCTCTGACTGGGAGCTAACGTGGTTGAGAAGGACCACGTGCCGTTCCGCGACCAGCGTGTAGCCCCATATAAGAGGAGATCAACCGCACTTAACCGCGTCAGCTCTGTTTTGTAAGTAGAGAGCATTCAGAACAACCCTCGTTAACCGCAGCTCCGCTTGTTGGTCCTCTATCGTTTAACATGATTTCCGAAGGTCCCCTTCGCATGCACTAAGTGTGCAGCTTAACACGAGACGGGTGTAGTATCCGCACCTTAATTCAGACTTCGATACGAGATGGGCATGACAAATAGTGGTAGTTGGTGTGTGATTCGACTTCCAAGTTTCGGGGTGGCAACGCTATGCGCCCGTGTGCAGTACCGGTCCCTTCCCAATCAGATACTTGCGCCTGTAGACCTCTCCTAGCTGATAACAGGGGTGTCGATGCCTACGGTAAGCTCATAGCGTCCCTGGGTCGCGTGCTTCTAGTCTCTACCCCCGTTGGACGATAAAACCTCATTAAGCCACCAAGAATTCACGGACTTGCGAGAGATACAGTAGGTGATCCTTGACACGGCCTGCGTCCGATGGCCGGGGTGACACCTTACCAACCATCCAGCATCGCTAGGAATGAGAGATTTATTTGCCCTGGTGACGAGTATCGTGACGTTTTTCCTAAATGGTCGGTTTCGTTCTTTGAAGTCGTAACACAACCATCCGTGACTTCTTTGATACCTTCTATCGGTAGGTTTAGGCTAAGGCTGAGCGGGAGTACATGAGAATCAAGTGAGACACAAATATACGCTACGAGCATATTTTAGGGAGGAATGCTTAGAATACCTCTACGAAGGTTTCGCACCGCGTCGACTATTTGCACCGTGACAGGTTCCGCTCTTCAAGATCGATGTGAATTCACTTAACCGACTTCATCAGGTACGTGTGTACAATAAGCGATCGGACATTTAGTAATTCGCAGTGGTGCCAGCTTGGACTGAATGCATCCGCCGGAGCTTGGCGTTGAGCAGGTTCTTCTAGTGGGCGAACCCTGAAGTCGCTGACAAGATCTTAGACTACCGGCTTCATGTAACAGCTCAAGCGTAGACGGAGTCCGACAGCAGTTGCCCGAGAGTATACATTATGAATTGCACCACGCAGTGCGGCCTTTCGTCTGGCGTGTAAATTGCAAGTTTTTGCATTATTCTACGACATCCGACTCCATAGGCCGAACATCATCAACATATATCGTGTACAGACTGCTTGTAAACGGTATCTCACCGCGGACGGGATGTCGGACTGCACTTCGGAATGCCGCAGGGTGGAAGTTCGTACTTGTTACACAAAGAAGGATCAATCTGGTCGAGTAGCCGGCTCATTACCTTATCGTGATTACTGGGCAGTACCGCGCTCAGCGGATTAGCAACCTCTACAGGGCGGACGTGTGGGGCACAGCACCACGGTGGCATGGTCCCTGTTGAGCAAGCTACAGGACCATATGTATAATTGAATGACAGCAACCACTGCCCCGGAAATCCTAGGAGTCGGTTTCCCAGGGGCATGAATTTTCGAAAGTTAACCCAAGTAGGAGCAATAGCCAAATATCTACCATATTGGGAGGCTTCGGGATGCGGTCTCGGGATCGGGTAGGGCTTAGATACAACCTCTCGGACTATTCAATAATTTATACCTTTCCTAATTCCCTAGGATATTATTTCAACATGGATCTTATTAGACAAGGAAAGTAAAGGTACACCTTTGCAAGCCCAACCGGGCGTGCACATCGAAATAATTCCACCGATCGGCACATGACCAATTTTTGGCCGACCGTAAACCTGTGCCGCGGGATAGGCGTTATCATCGAATAGGTGTTCCATCGTAACACGTAGTTACAATTTACGTCGAGTTAGCTACATCGAGCCCTAGCACGTGTACGCGCTGACGATTTTTCATAGAAGTACCAATGAATCATGACATCCTTATATCTCCCTAAAGGCAGATATCAAATTCTTGCCCATATAATAGGGCGCCTTGTAGGTTTCAACAAATGCAGGAGACAAGTCATTCTTGAAGGCTTACTTAGCAAACAACGGGCATGGAGCGCTACGCGACTCAGGTATAATACAATTTAATTACAACGTCGGGGCGGACGCTAGGGGTAATCTCCAGAAGGGGAGACCTCGATGAGTACCTGTGTTAAGAGTCCTAATCAACAAGTTTAAAGTTAACAGCTCGTCGGTGGACCTATCCGCTTACTTGGTGGTTAAAAATTACGTTTTGTCTAAGTGGCAAACATCGCCTCGCTGTGAAAATAACATAGGTAGCGACCGAGAGGTAGACGACGGGCACGTGGTTCCTATCCCTCACGTTACTTCGGGATTAGCATGCTTCGATACACCCTAACATCTGTCTTAACTCGACTTTAGTAGGTTGGCAGGGTTATGTTTGAAATATCTCCCCTATTTGCATTTTGTTAAACGACAAGGGCCAAAGCTGTTTTGCCGATATTATTGTCGCACTGGGACCATTTCCCCCTAATGAGTCGCTCTTACCGTTTTTTACAATCTATGCAGGTGCTAATGTTGATAAAAAGATGGGGACGTAGCAGATAAAAAGATCTCTGCACAGAATCAACGGATTCGCTTTGGTCTGTAGAGTCAAAGCGCACACGGCGTTGGTACGTGAGACAACGTGTCAACTGCTTGACAGAATTATCTGGGAAAAAACATTAAATTGAGCTCTGATGTTCGGACACCCTCATAAGTTGTGCTGATCGCAGCCGGATATGCTGTGCGCTCTAACGCAGAGACCCTGCTGGACCCAATTTTACAGTATCTCGGCTAAAGATCCCGAGCCGTCAGGGTGTCCAATAACTCATGGTATCGATCGGGGATTGTAAGGGACACCAAAGTACACTTGGAGACTGTACCGGGTCGTCTATACGACGAGACAGCAAGGGCTGTCCTTTGTTAACTATACGTGTGATGAATTCGTCACTTGCCAACCTCTAATACAGACAAGAAGCGCCACCCACACTCGACTCGCCGGACATGTTTAGGCTATTCGACAGCGCCGAGAAGGGATTGTAAGTATTCTCGCAAGCGAACCTCTCTCGGACTTGTGCAAGCAGCTATCTAGGCCGCTGATGTCCTGCGAGGGGGCAGCCGTCGTTTATTGGGAATAAGCCGTGGGCAGCTCTCCAATATATGGGCTAAAACCTTCGGCGCTTTTTACCGCAATACGTGACGGTTACCATGTCGAAGGTTGAGATAATACACCGTGAGACGTCGGTATGTACCCTCGCACCGCGCACATCTAATAAACCCTACGCGAGCGCTTGGGGAACCTTCAATAGCACGTACGGCGCGAAACGATAACTGGTGTACCATACGAGTCGTCTCGAGTGGGCTCCTCCTACCTTTCCTCACAAAAATTCGCCCTGCCAGCTTATAGGATCGGCCGTGCAATCGACAAACGCATAAACTGGCCCTTATGCAAGCGGGTAATCTGTTCGTGGGGTAGAACTAATTACCAAGTTTAGGACGGGATAGAGTGGGCCCTCGGGAAACTTACCATCCGGAATTGGAGCTCAGAAGAAATCAGACTTATCACTCTGGGACAACCGGATTCACGCGATCGACCAATGGTGAAAACAGGCCAGTGGGACTCTAGACCGCGAGGATACCGACGACCCCATTTTCCCACCAGGTAAGTTCGAGGGAGTATAAGTCAGAATATCCACAACGGAACCATATTGGATACGCTCTTCTAACGATATGACATCATCGGGCGGCGCAAGCGGGCTCTCTATGGCTGCTCGAAGGTTTCCATACAGATGGCCTCAGCGTCATTCACAGGAAAGGGCACCTTGGGATTCCGTATAGCCTAAGCCCACTTTGTGTGCCCATGACGCGTTCCTCGCTACTCGCCGTGCATTGTGGCAATTATTGCGGCTTTTCGCTGTATGAAAGAGCTCGAACGTATTTTCACAGACTTGACGAGAAAACGTCCTAAGTGGGAGCCTTTCCTGTCCTGTGGCCACAACACGGATCCCCGTCCCAGCCCGAGTAACTATCGGGAGGAAGGAAATCAGAACTAACTTATACATGCCAACCACACAGCTGATACCTCTGGATGACGGGCTCACCGTGACAGGTCAGTTAGACATCTGAGGACTTGCATACGCCGAGTACGCCGGGTTGCGGGAGAGTGGGGGTAGTGCTTGGCGACGAGACCAAAAGAACGCACACCCGCTGCGTCGCACGTCTGAGGCCAGAGGGTGAGTGGGATTGATATCAGGGCGTACGGATATATTAACAGCAGTTGAGCACCGTGCTGGGGTGGATACCCGGAGGTTGCGTATGCTGCCGACACAATGGTGCAAGTGGATCACAAATGTCTATTGTTTTAGGTAGGAT'"
      ]
     },
     "execution_count": 273,
     "metadata": {},
     "output_type": "execute_result"
    }
   ],
   "source": [
    "def complimentary_strand(file):\n",
    "    fhand = open(file)\n",
    "    txt = fhand.read()\n",
    "    reversed_input = txt[::-1]\n",
    "    list = []\n",
    "    for letter in reversed_input:\n",
    "       if letter == 'A':\n",
    "          list.append('T')\n",
    "       elif letter == 'T':\n",
    "          list.append('A')\n",
    "       elif letter == 'G':\n",
    "          list.append('C')\n",
    "       elif letter == 'C':\n",
    "          list.append('G')\n",
    "    #print list    \n",
    "    return ''.join(list)\n",
    "\n",
    "complimentary_strand('dataset_3_2.txt')\n",
    "        "
   ]
  },
  {
   "cell_type": "markdown",
   "metadata": {},
   "source": [
    "Pattern position function:\n",
    "\n",
    "Takes a text file input in the format of a DNA sequence(text) and a pattern* and outputs the position on the DNA strand where that pattern occurs.\n",
    "\n",
    "*text and pattern must be seperated by whitespace\n",
    "\n",
    "Solve the Pattern Matching Problem "
   ]
  },
  {
   "cell_type": "code",
   "execution_count": 274,
   "metadata": {
    "collapsed": false
   },
   "outputs": [
    {
     "name": "stdout",
     "output_type": "stream",
     "text": [
      "[60039, 98409, 129189, 152283, 152354, 152411, 163207, 197028, 200160, 357976, 376771, 392723, 532935, 600085, 622755, 1065555]\n"
     ]
    }
   ],
   "source": [
    "\n",
    "def pattern_pos(file):\n",
    "    fhand = open(file)\n",
    "    txt = fhand.read()\n",
    "    splity = txt.split()\n",
    "    pattern = splity[0]\n",
    "    text = splity[1]\n",
    "    start = 0\n",
    "    end = len(pattern)\n",
    "    list = []\n",
    "    while start < (len(text) - len(pattern)):\n",
    "        seq = text[start:end]\n",
    "        if seq == pattern:\n",
    "            list.append(start)\n",
    "            start = start + 1\n",
    "            end = end + 1\n",
    "        else:\n",
    "            start = start + 1\n",
    "            end = end + 1\n",
    "    #list = str(list)\n",
    "    print list\n",
    "    \n",
    "pattern_pos('vibrio_cholerae_genome.txt')"
   ]
  },
  {
   "cell_type": "markdown",
   "metadata": {},
   "source": [
    "Takes a text file input in the format of a DNA sequence(text) and converts it to a number (its lexicographic number based on its order when all DNA sequences are arranged alphabetically. e.g. a = 0, c = 1, g = 2, t = 3, aa = 4, ac = 5 etc. Underneath is a function that does the reverse calculation (i.e. a sequence from a number)"
   ]
  },
  {
   "cell_type": "code",
   "execution_count": 2,
   "metadata": {
    "collapsed": false
   },
   "outputs": [
    {
     "data": {
      "text/plain": [
       "185196403"
      ]
     },
     "execution_count": 2,
     "metadata": {},
     "output_type": "execute_result"
    }
   ],
   "source": [
    "def pattern_to_number(file):\n",
    "    fhand = open(file)\n",
    "    txt = fhand.read().rstrip()\n",
    "    seq = []\n",
    "   \n",
    "    for letter in txt:\n",
    "        if letter == 'A':\n",
    "            seq.append('0')\n",
    "        elif letter == 'C':\n",
    "            seq.append('1')\n",
    "        elif letter == 'G':\n",
    "            seq.append('2')\n",
    "        elif letter == 'T':\n",
    "            seq.append('3')\n",
    "    \n",
    "    base_4_num = ''.join(seq)\n",
    "    return int(base_4_num,4)\n",
    "    \n",
    "\n",
    "pattern_to_number('dataset_3010_2.txt')"
   ]
  },
  {
   "cell_type": "code",
   "execution_count": 3,
   "metadata": {
    "collapsed": true
   },
   "outputs": [],
   "source": [
    "import string\n",
    "digs = string.digits + string.letters\n",
    "\n",
    "def int2base(x, base):\n",
    "  if x < 0: sign = -1\n",
    "  elif x == 0: return digs[0]\n",
    "  else: sign = 1\n",
    "  x *= sign\n",
    "  digits = []\n",
    "  while x:\n",
    "    digits.append(digs[x % base])\n",
    "    x /= base\n",
    "  if sign < 0:\n",
    "    digits.append('-')\n",
    "  digits.reverse()\n",
    "  return ''.join(digits)"
   ]
  },
  {
   "cell_type": "code",
   "execution_count": 4,
   "metadata": {
    "collapsed": false
   },
   "outputs": [
    {
     "data": {
      "text/plain": [
       "'ACCCATTC'"
      ]
     },
     "execution_count": 4,
     "metadata": {},
     "output_type": "execute_result"
    }
   ],
   "source": [
    "def num_to_seq(file):\n",
    "    fhand = open(file)\n",
    "    txt = fhand.read().rstrip()\n",
    "    splity = txt.split()\n",
    "    n = int(splity[0])\n",
    "    l = int(splity[1])\n",
    "    seq = []\n",
    "    base4 = int2base(n,4)\n",
    "    for number in base4:\n",
    "        if number == '0':\n",
    "            seq.append('A')\n",
    "        elif number == '1':\n",
    "            seq.append('C')\n",
    "        elif number == '2':\n",
    "            seq.append('G')\n",
    "        elif number == '3':\n",
    "            seq.append('T')\n",
    "    joined_seq = ''.join(seq)\n",
    "    if len(joined_seq) == l:\n",
    "        return joined_seq\n",
    "    elif len(joined_seq) == l-1:\n",
    "        mod_seq = 'A' + joined_seq\n",
    "        return mod_seq\n",
    "    \n",
    "        \n",
    "    \n",
    "\n",
    "num_to_seq('dataset_3010_4.txt')"
   ]
  },
  {
   "cell_type": "markdown",
   "metadata": {},
   "source": [
    "most common sequence function:\n",
    "\n",
    "Find patterns forming clumps in a string\n",
    "\n",
    "Takes a text file input in the format of a DNA sequence(text), pattern length (pattern)*, frame size and occurence and outputs  patterns that form clumps of a given size within a frame in that sequence.\n",
    "\n",
    "*text and pattern must be seperated by whitespace"
   ]
  },
  {
   "cell_type": "code",
   "execution_count": 6,
   "metadata": {
    "collapsed": false
   },
   "outputs": [
    {
     "data": {
      "text/plain": [
       "{'',\n",
       " 'CCCATTTGGC',\n",
       " 'CCTTTTTCAC',\n",
       " 'CGAAAACGAG',\n",
       " 'GTGAGAGCCT',\n",
       " 'TATTATAGCA',\n",
       " 'TGATACTATT',\n",
       " 'TTTCGTTTAA'}"
      ]
     },
     "execution_count": 6,
     "metadata": {},
     "output_type": "execute_result"
    }
   ],
   "source": [
    "\n",
    "\n",
    "def frequent_count(file):\n",
    "    fhand = open(file)\n",
    "    txt = fhand.read()\n",
    "    splity = txt.split()\n",
    "    text = splity[0]\n",
    "    pattern = int(splity[1])\n",
    "    frame_size = int(splity[2])\n",
    "    occ = splity[3]\n",
    "    grand_total = 0\n",
    "    unique = set()\n",
    "    while grand_total < (len(text)-pattern):\n",
    "        start = grand_total\n",
    "        end = grand_total + pattern\n",
    "        list = []\n",
    "        counts = {}\n",
    "        while start < (frame_size+grand_total) - pattern:\n",
    "           list.append(text[start:end])\n",
    "           start = start + 1\n",
    "           end = end + 1\n",
    "        for item in list:\n",
    "            counts[item] = counts.get(item,0) + 1\n",
    "        lst = []\n",
    "        for k, v in counts.items():\n",
    "           lst.append( (v, k) )\n",
    "        lst.sort(reverse=True)\n",
    "        for v,k in lst[:10]:\n",
    "           if v >= 18:\n",
    "              unique.add(k)\n",
    "        grand_total = grand_total+1\n",
    "    return unique\n",
    "frequent_count('dataset_4_5.txt')"
   ]
  },
  {
   "cell_type": "code",
   "execution_count": 229,
   "metadata": {
    "collapsed": false
   },
   "outputs": [
    {
     "data": {
      "text/plain": [
       "18443803202L"
      ]
     },
     "execution_count": 229,
     "metadata": {},
     "output_type": "execute_result"
    }
   ],
   "source": [
    "int('101023111201221002',4)"
   ]
  }
 ],
 "metadata": {
  "anaconda-cloud": {},
  "kernelspec": {
   "display_name": "Python [Root]",
   "language": "python",
   "name": "Python [Root]"
  },
  "language_info": {
   "codemirror_mode": {
    "name": "ipython",
    "version": 2
   },
   "file_extension": ".py",
   "mimetype": "text/x-python",
   "name": "python",
   "nbconvert_exporter": "python",
   "pygments_lexer": "ipython2",
   "version": "2.7.12"
  }
 },
 "nbformat": 4,
 "nbformat_minor": 0
}
